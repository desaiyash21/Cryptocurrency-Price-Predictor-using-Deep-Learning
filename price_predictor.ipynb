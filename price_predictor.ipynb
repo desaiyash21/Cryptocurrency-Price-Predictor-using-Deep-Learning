{
 "cells": [
  {
   "cell_type": "code",
   "execution_count": null,
   "metadata": {},
   "outputs": [],
   "source": [
    "import numpy as np\n",
    "import pandas as pd\n",
    "import yfinance as yf\n",
    "import matplotlib.pyplot as plt\n",
    "import seaborn as sns\n",
    "from sklearn.preprocessing import MinMaxScaler\n",
    "from tensorflow.keras.models import Sequential\n",
    "from tensorflow.keras.layers import Dense, LSTM, GRU, Dropout\n",
    "from sklearn.metrics import mean_squared_error\n",
    "from datetime import datetime\n",
    "plt.style.use('fivethirtyeight')"
   ]
  },
  {
   "cell_type": "code",
   "execution_count": null,
   "metadata": {},
   "outputs": [],
   "source": [
    "# Fetch Bitcoin historical data from Yahoo Finance\n",
    "ticker = \"BTC-USD\"\n",
    "end=datetime.now() # current date\n",
    "start = datetime(end.year-15,end.month,end.day) # 15 years before the current date \n",
    "data = yf.download(ticker, start=start, end=end)"
   ]
  },
  {
   "cell_type": "code",
   "execution_count": null,
   "metadata": {},
   "outputs": [],
   "source": [
    "data"
   ]
  },
  {
   "cell_type": "code",
   "execution_count": null,
   "metadata": {},
   "outputs": [],
   "source": [
    "data = data[['Close']]\n",
    "data = data.dropna()"
   ]
  },
  {
   "cell_type": "code",
   "execution_count": null,
   "metadata": {},
   "outputs": [],
   "source": [
    "data"
   ]
  },
  {
   "cell_type": "code",
   "execution_count": null,
   "metadata": {},
   "outputs": [],
   "source": [
    "# Normalize the dataset\n",
    "scaler = MinMaxScaler(feature_range=(0, 1))\n",
    "data_scaled = scaler.fit_transform(data)\n",
    "\n",
    "def create_sequences(data, time_step=60):\n",
    "    X, y = [], []\n",
    "    for i in range(len(data) - time_step - 1):\n",
    "        X.append(data[i:(i + time_step), 0])\n",
    "        y.append(data[i + time_step, 0])\n",
    "    return np.array(X), np.array(y)"
   ]
  },
  {
   "cell_type": "code",
   "execution_count": null,
   "metadata": {},
   "outputs": [],
   "source": [
    "# Split the data into training and testing sets\n",
    "time_step = 60\n",
    "train_size = int(len(data_scaled) * 0.8)\n",
    "train_data, test_data = data_scaled[:train_size], data_scaled[train_size:]\n",
    "\n",
    "X_train, y_train = create_sequences(train_data, time_step)\n",
    "X_test, y_test = create_sequences(test_data, time_step)"
   ]
  },
  {
   "cell_type": "code",
   "execution_count": null,
   "metadata": {},
   "outputs": [],
   "source": [
    "# Reshape data for LSTM/GRU\n",
    "X_train = X_train.reshape((X_train.shape[0], X_train.shape[1], 1))\n",
    "X_test = X_test.reshape((X_test.shape[0], X_test.shape[1], 1))"
   ]
  },
  {
   "cell_type": "code",
   "execution_count": null,
   "metadata": {},
   "outputs": [],
   "source": [
    "# Function to build models\n",
    "def build_model(model_type='LSTM'):\n",
    "    model = Sequential()\n",
    "    if model_type == 'LSTM':\n",
    "        model.add(LSTM(50, return_sequences=True, input_shape=(time_step, 1)))\n",
    "        model.add(Dropout(0.2))\n",
    "        model.add(LSTM(50, return_sequences=False))\n",
    "    elif model_type == 'GRU':\n",
    "        model.add(GRU(50, return_sequences=True, input_shape=(time_step, 1)))\n",
    "        model.add(Dropout(0.2))\n",
    "        model.add(GRU(50, return_sequences=False))\n",
    "    \n",
    "    model.add(Dropout(0.2))\n",
    "    model.add(Dense(25))\n",
    "    model.add(Dense(1))\n",
    "    \n",
    "    model.compile(optimizer='adam', loss='mean_squared_error')\n",
    "    return model"
   ]
  },
  {
   "cell_type": "code",
   "execution_count": null,
   "metadata": {},
   "outputs": [],
   "source": [
    "# Train and evaluate LSTM model\n",
    "lstm_model = build_model('LSTM')\n",
    "lstm_model.fit(X_train, y_train, epochs=10, batch_size=32, validation_data=(X_test, y_test))"
   ]
  },
  {
   "cell_type": "code",
   "execution_count": null,
   "metadata": {},
   "outputs": [],
   "source": [
    "# Train and evaluate GRU model\n",
    "gru_model = build_model('GRU')\n",
    "gru_model.fit(X_train, y_train, epochs=10, batch_size=32, validation_data=(X_test, y_test))"
   ]
  },
  {
   "cell_type": "code",
   "execution_count": null,
   "metadata": {},
   "outputs": [],
   "source": [
    "# Function to predict future prices\n",
    "def predict_future(model, last_data, future_days=30):\n",
    "    future_predictions = []\n",
    "    input_seq = last_data[-time_step:].reshape(1, time_step, 1)\n",
    "    \n",
    "    for _ in range(future_days):\n",
    "        pred = model.predict(input_seq)[0][0]\n",
    "        future_predictions.append(pred)\n",
    "        new_input = np.append(input_seq[:, 1:, :], [[[pred]]], axis=1)\n",
    "        input_seq = new_input\n",
    "    \n",
    "    return scaler.inverse_transform(np.array(future_predictions).reshape(-1, 1))"
   ]
  },
  {
   "cell_type": "code",
   "execution_count": null,
   "metadata": {},
   "outputs": [],
   "source": [
    "# Predict future prices\n",
    "future_days = 30\n",
    "y_future_lstm = predict_future(lstm_model, data_scaled, future_days)\n",
    "y_future_gru = predict_future(gru_model, data_scaled, future_days)"
   ]
  },
  {
   "cell_type": "code",
   "execution_count": null,
   "metadata": {},
   "outputs": [],
   "source": []
  },
  {
   "cell_type": "code",
   "execution_count": null,
   "metadata": {},
   "outputs": [],
   "source": [
    "# Predictions for test set\n",
    "y_pred_lstm = lstm_model.predict(X_test)\n",
    "y_pred_gru = gru_model.predict(X_test)"
   ]
  },
  {
   "cell_type": "code",
   "execution_count": null,
   "metadata": {},
   "outputs": [],
   "source": [
    "y_pred_lstm = scaler.inverse_transform(y_pred_lstm.reshape(-1, 1))\n",
    "y_pred_gru = scaler.inverse_transform(y_pred_gru.reshape(-1, 1))\n",
    "y_test = scaler.inverse_transform(y_test.reshape(-1, 1))"
   ]
  },
  {
   "cell_type": "code",
   "execution_count": null,
   "metadata": {},
   "outputs": [],
   "source": [
    "# Calculate RMSE\n",
    "rmse_lstm = np.sqrt(mean_squared_error(y_test, y_pred_lstm))\n",
    "rmse_gru = np.sqrt(mean_squared_error(y_test, y_pred_gru))\n",
    "\n",
    "print(f\"LSTM RMSE: {rmse_lstm}\")\n",
    "print(f\"GRU RMSE: {rmse_gru}\")"
   ]
  },
  {
   "cell_type": "code",
   "execution_count": null,
   "metadata": {},
   "outputs": [],
   "source": [
    "# Plot results\n",
    "plt.figure(figsize=(12,6))\n",
    "plt.plot(y_test, label='Actual Price', color='black')\n",
    "plt.plot(y_pred_lstm, label='LSTM Predicted Price', color='blue')\n",
    "plt.plot(y_pred_gru, label='GRU Predicted Price', color='red')\n",
    "plt.legend()\n",
    "plt.show()"
   ]
  },
  {
   "cell_type": "code",
   "execution_count": null,
   "metadata": {},
   "outputs": [],
   "source": [
    "# Plot future predictions\n",
    "plt.figure(figsize=(12,6))\n",
    "plt.plot(range(len(y_future_lstm)), y_future_lstm, label='LSTM Future Predictions', color='blue')\n",
    "plt.plot(range(len(y_future_gru)), y_future_gru, label='GRU Future Predictions', color='red')\n",
    "plt.legend()\n",
    "plt.title(\"Future Price Predictions\")\n",
    "plt.show()"
   ]
  },
  {
   "cell_type": "code",
   "execution_count": null,
   "metadata": {},
   "outputs": [],
   "source": []
  }
 ],
 "metadata": {
  "kernelspec": {
   "display_name": "base",
   "language": "python",
   "name": "python3"
  },
  "language_info": {
   "codemirror_mode": {
    "name": "ipython",
    "version": 3
   },
   "file_extension": ".py",
   "mimetype": "text/x-python",
   "name": "python",
   "nbconvert_exporter": "python",
   "pygments_lexer": "ipython3",
   "version": "3.12.7"
  }
 },
 "nbformat": 4,
 "nbformat_minor": 4
}
